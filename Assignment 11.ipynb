{
 "cells": [
  {
   "cell_type": "code",
   "execution_count": null,
   "id": "540c04e8-c782-4582-8a5e-18d32561ca71",
   "metadata": {},
   "outputs": [],
   "source": [
    "Q1 -> what is an exception in python? write the difference between exception and syntax error ?\n",
    "\n",
    "Ans -> An exception in Python is an error that occurs during the execution of a program, which interrupts the normal flow of the program's instructions. When an exception occurs, Python creates an exception object that contains information about the error, such as its type and message.\n",
    "\n",
    "For example, if a program tries to divide a number by zero, it will raise a ZeroDivisionError exception. Similarly, if a program tries to access a variable that is not defined, it will raise a NameError exception.\n",
    "\n",
    "On the other hand, a syntax error is an error that occurs when the Python interpreter encounters a problem with the code's syntax. This error prevents the code from running and must be fixed before the program can be executed.\n",
    "\n",
    "For example, if a program has a missing colon at the end of an if statement, it will raise a syntax error. Similarly, if a program has an extra parenthesis or bracket, it will raise a syntax error.\n",
    "\n",
    "The main difference between an exception and a syntax error is that an exception occurs during the runtime of a program, while a syntax error occurs before the program is executed. Exceptions can be handled using try-except blocks in Python, while syntax errors need to be fixed manually by correcting the code's syntax.\n"
   ]
  },
  {
   "cell_type": "code",
   "execution_count": null,
   "id": "e89824e0-2123-4e0a-8092-36bb3e88d2ec",
   "metadata": {},
   "outputs": [],
   "source": [
    "Q2 -> what happen when an exception is not handled ? explain with the example\n",
    "\n",
    "Ans -> When an exception is not handled in Python, it causes the program to terminate and display an error message that describes the exception that occurred. This means that any code following the exception will not be executed.\n",
    "\n",
    "# ex ->\n",
    "\n",
    "numerator = 10 \n",
    "denominator = 0\n",
    "result = numerator / denominator\n",
    "print(result)\n",
    "\n",
    "In this code, the denominator is set to zero, which will result in a ZeroDivisionError exception. If we run this code without handling the exception, the program will terminate and display the following error message:"
   ]
  },
  {
   "cell_type": "code",
   "execution_count": null,
   "id": "25f6f387-77e3-4cc5-b211-5c600537a10f",
   "metadata": {},
   "outputs": [],
   "source": [
    "Q3 -> which python statement are used to catch and handle exceptions? explain with an example ?\n",
    "\n",
    "Ans -> To catch and handle exceptions in Python, we use the try-except block. The try block contains the code that may raise an exception, and the except block contains the code that handles the exception if it occurs.\n",
    "\n",
    "The basic syntax of the try-except block is as follows:\n",
    "    \n",
    "try:\n",
    "    # code that may raise an exception\n",
    "except ExceptionType:\n",
    "    # code that handles the exception\n",
    "\n",
    "Here, ExceptionType is the type of exception that we want to catch and handle. If an exception of the specified type occurs in the try block, Python will jump to the except block and execute the code there.\n",
    "\n",
    "numerator = 10\n",
    "denominator = 0\n",
    "try:\n",
    "    result = numerator / denominator\n",
    "    print(result)\n",
    "except ZeroDivisionError:\n",
    "    print(\"Error: Division by zero.\")\n",
    "\n"
   ]
  },
  {
   "cell_type": "code",
   "execution_count": null,
   "id": "bbda1ca6-318f-4b9d-a669-4aee18892db8",
   "metadata": {},
   "outputs": [],
   "source": [
    "Q4 -> explain with an example \n",
    "1) try and else\n",
    "2) finally\n",
    "3) raise\n",
    "\n",
    "Ans -> \n",
    "try block: The try block is used in Python to enclose the code that may raise an exception. It is used to catch exceptions and handle them gracefully. If an exception occurs inside the try block, Python will look for an appropriate except block to handle the exception.\n",
    "\n",
    "else block: The else block is used in conjunction with the try block. It is executed when no exceptions are raised inside the try block. The else block is optional and is executed after the try block but before the finally block.\n",
    "\n",
    "finally block: The finally block is used in conjunction with the try block. It is executed whether or not an exception is raised inside the try block. The finally block is used to release resources such as file handles, network connections, or database connections that were opened inside the try block.\n",
    "\n",
    "raise statement: The raise statement is used to raise an exception manually in Python. It is used to indicate that an error has occurred in the program and to interrupt the normal flow of execution.\n",
    "\n",
    "\n",
    "# example \n",
    "try :\n",
    "    num(int(input(\"Enter a positive number\"))\n",
    "    if num <= 0\n",
    "        raise ValueError(\"Number must be positive\")\n",
    "        \n",
    "except ValueError as ve:\n",
    "        print(ve)\n",
    "        \n",
    "else:\n",
    "        print(\"you Entered\" , num)\n",
    "\n",
    "finally:\n",
    "       print(\"program complete \")\n",
    "        "
   ]
  },
  {
   "cell_type": "code",
   "execution_count": null,
   "id": "de0d09a2-16a5-42fa-9cb0-7570e7974452",
   "metadata": {},
   "outputs": [],
   "source": [
    "Q5 -> what is custom expection in python ? why do we need custom exception ? explain with the example\n",
    "\n",
    "Ans -> Custom exceptions in Python are user-defined exceptions that extend the built-in Exception class. They allow us to define our own exceptions with custom messages and behaviors. We need custom exceptions to make our code more readable, maintainable, and robust. By defining our own exceptions, we can provide more meaningful error messages and handle errors more gracefully.\n",
    "\n",
    "For example, consider a scenario where we have a function that takes an integer as input and returns its square. If the input is not an integer, we want to raise an exception with a custom error message. We can define a custom exception for this purpose, like this:\n",
    "    \n",
    "class InvalidInputError(Exception):\n",
    "    pass\n",
    "\n",
    "def square(num):\n",
    "    if not isinstance(num, int):\n",
    "        raise InvalidInputError(\"Input must be an integer.\")\n",
    "    return num ** 2\n"
   ]
  },
  {
   "cell_type": "code",
   "execution_count": 2,
   "id": "91787ef8-ba2b-41eb-ba6f-916cd4921c71",
   "metadata": {},
   "outputs": [
    {
     "name": "stdin",
     "output_type": "stream",
     "text": [
      "Enter a positive number  -23\n"
     ]
    },
    {
     "name": "stdout",
     "output_type": "stream",
     "text": [
      "Number must be positive ...\n"
     ]
    }
   ],
   "source": [
    "Q6 -> Create a custom exception class use this class to handle an exception in python ?\n",
    "\n",
    "Ans -> \n",
    "class NegativeNumberError(Exception):\n",
    "    pass\n",
    "\n",
    "def squarae(num):\n",
    "    if num < 0:\n",
    "        raise NegativeNumberError(\"Number must be positive ...\")\n",
    "    return num **2\n",
    "try :\n",
    "    num = int(input(\"Enter a positive number \"))\n",
    "    print(squarae(num))\n",
    "except NegativeNumberError as ne:\n",
    "    print(ne)\n"
   ]
  }
 ],
 "metadata": {
  "kernelspec": {
   "display_name": "Python 3 (ipykernel)",
   "language": "python",
   "name": "python3"
  },
  "language_info": {
   "codemirror_mode": {
    "name": "ipython",
    "version": 3
   },
   "file_extension": ".py",
   "mimetype": "text/x-python",
   "name": "python",
   "nbconvert_exporter": "python",
   "pygments_lexer": "ipython3",
   "version": "3.10.8"
  }
 },
 "nbformat": 4,
 "nbformat_minor": 5
}
